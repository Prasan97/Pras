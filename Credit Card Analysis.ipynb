{
 "cells": [
  {
   "cell_type": "code",
   "execution_count": 1,
   "metadata": {},
   "outputs": [
    {
     "data": {
      "text/plain": [
       "<matplotlib.collections.PathCollection at 0x7f8a8d0>"
      ]
     },
     "execution_count": 1,
     "metadata": {},
     "output_type": "execute_result"
    }
   ],
   "source": [
    "import numpy as np\n",
    "\n",
    "import pandas as pd\n",
    "import matplotlib.pyplot as plt\n",
    "\n",
    "\n",
    "dataset=pd.read_csv('CC GENERAL.csv')\n",
    "dataset\n",
    "dataset.isnull().sum()\n",
    "dataset['MINIMUM_PAYMENTS']=dataset['MINIMUM_PAYMENTS'].replace(np.nan,dataset['MINIMUM_PAYMENTS'].median())\n",
    "dataset['CREDIT_LIMIT']=dataset['CREDIT_LIMIT'].replace(np.nan,dataset['CREDIT_LIMIT'].median())\n",
    "x=dataset.iloc[:,[13,14]].values\n",
    "from sklearn.cluster import KMeans\n",
    "\n",
    "wcss=[]\n",
    "for i in range (1,21):\n",
    "    kmeans=KMeans(i,init='k-means++',\n",
    "                  random_state=100)\n",
    "    kmeans.fit(x)\n",
    "    wcss.append(kmeans.inertia_)\n",
    "\n",
    "plt.plot(range(1,21),wcss)\n",
    "\n",
    "kmeans=KMeans(5,init='k-means++',random_state=100)\n",
    "result = kmeans.fit_predict(x)\n",
    "\n",
    "plt.scatter(x[result==0,0],x[result==0,1],c='red')\n",
    "plt.scatter(x[result==1,0],x[result==1,1],c='blue')\n",
    "plt.scatter(x[result==2,0],x[result==2,1],c='yellow')\n",
    "plt.scatter(x[result==3,0],x[result==3,1],c='orange')\n",
    "plt.scatter(x[result==4,0],x[result==4,1],c='green')\n",
    "plt.scatter(kmeans.cluster_centers_[:,0],\n",
    "            kmeans.cluster_centers_[:,1],\n",
    "            s=100, c='black')"
   ]
  },
  {
   "cell_type": "code",
   "execution_count": null,
   "metadata": {
    "collapsed": true
   },
   "outputs": [],
   "source": []
  }
 ],
 "metadata": {
  "kernelspec": {
   "display_name": "Python 3",
   "language": "python",
   "name": "python3"
  },
  "language_info": {
   "codemirror_mode": {
    "name": "ipython",
    "version": 3
   },
   "file_extension": ".py",
   "mimetype": "text/x-python",
   "name": "python",
   "nbconvert_exporter": "python",
   "pygments_lexer": "ipython3",
   "version": "3.6.3"
  }
 },
 "nbformat": 4,
 "nbformat_minor": 2
}
